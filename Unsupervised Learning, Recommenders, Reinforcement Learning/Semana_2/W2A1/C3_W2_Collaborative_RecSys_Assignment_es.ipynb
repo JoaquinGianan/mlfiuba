{
 "cells": [
  {
   "cell_type": "markdown",
   "metadata": {},
   "source": [
    "# <img align=\"left\" src=\"./images/movie_camera.png\"     style=\" width:40px;  \" > Practice lab: Collaborative Filtering Recommender Systems\n",
    "\n",
    "En este ejercicio, implementará el filtrado colaborativo para construir un sistema de recomendación de películas. \n",
    "\n",
    "# <img align=\"left\" src=\"./images/film_reel.png\"     style=\" width:40px;  \" > Outline\n",
    "- [ 1 - Notation](#1)\n",
    "- [ 2 - Recommender Systems](#2)\n",
    "- [ 3 - Movie ratings dataset](#3)\n",
    "- [ 4 - Collaborative filtering learning algorithm](#4)\n",
    "  - [ 4.1 Collaborative filtering cost function](#4.1)\n",
    "    - [ Exercise 1](#ex01)\n",
    "- [ 5 - Learning movie recommendations](#5)\n",
    "- [ 6 - Recommendations](#6)\n",
    "- [ 7 - Congratulations!](#7)\n"
   ]
  },
  {
   "cell_type": "markdown",
   "metadata": {},
   "source": [
    "##  Packages <img align=\"left\" src=\"./images/film_strip_vertical.png\"     style=\" width:40px;   \" >\n",
    "Utilizaremos los ya conocidos paquetes NumPy y Tensorflow."
   ]
  },
  {
   "cell_type": "code",
   "execution_count": 1,
   "metadata": {},
   "outputs": [],
   "source": [
    "import numpy as np\n",
    "import tensorflow as tf\n",
    "from tensorflow import keras\n",
    "from recsys_utils import *"
   ]
  },
  {
   "cell_type": "markdown",
   "metadata": {},
   "source": [
    "|General <br />  Notation  | Description| Python (if any) |\n",
    "|:-------------|:------------------------------------------------------------||\n",
    "| $r(i,j)$     | escalar; = 1 si el usuario j calificó la película i = 0 en caso contrario             ||\n",
    "| $y(i,j)$     | escalar; = calificación dada por el usuario j en la película i (si r(i,j) = 1 está definido) ||\n",
    "|$\\mathbf{w}^{(j)}$ | vector; parámetros para el usuario j ||\n",
    "|$b^{(j)}$     |  escalar; parámetro para el usuario j ||\n",
    "| $\\mathbf{x}^{(i)}$ |   vector; clasificación de las características de la película i       ||     \n",
    "| $n_u$        | número de usuarios |num_users|\n",
    "| $n_m$        | número de películas | num_movies |\n",
    "| $n$          | número de películas | num_features                    |\n",
    "| $\\mathbf{X}$ |  matriz de vectores $\\mathbf{x}^{(i)}$         | X |\n",
    "| $\\mathbf{W}$ |  matrix of vectors $\\mathbf{w}^{(j)}$         | W |\n",
    "| $\\mathbf{b}$ |  vector de parámetros de sesgo $b^{(j)}$ | b |\n",
    "| $\\mathbf{R}$ | matriz de elementos $r(i,j)$                    | R |\n",
    "\n",
    "\n"
   ]
  },
  {
   "cell_type": "markdown",
   "metadata": {},
   "source": [
    "<a name=\"2\"></a>\n",
    "## 2 - Sistemas de recomendación <img align=\"left\" src=\"./images/film_rating.png\" style=\" width:40px; \" >\n",
    "En este laboratorio, implementará el algoritmo de aprendizaje de filtrado colaborativo y lo aplicará a un conjunto de datos de calificaciones de películas.\n",
    "El objetivo de un sistema de recomendación por filtrado colaborativo es generar dos vectores: Para cada usuario, un \"vector de parámetros\" que encarna los gustos de las películas de un usuario. Para cada película, un vector de características del mismo tamaño que encarna alguna descripción de la película. El producto punto de los dos vectores más el término de sesgo debería producir una estimación de la calificación que el usuario podría dar a esa película.\n",
    "\n",
    "El siguiente diagrama detalla cómo se aprenden estos vectores.\n",
    "\n",
    "<figure>\n",
    "   <img src=\"./images/ColabFilterLearn.PNG\"  style=\"width:740px;height:250px;\" >\n",
    "</figure>"
   ]
  },
  {
   "cell_type": "markdown",
   "metadata": {},
   "source": [
    "Las calificaciones existentes se proporcionan en forma de matriz como se muestra. $Y$ contiene las calificaciones; de 0,5 a 5 inclusive en pasos de 0,5. 0 si la película no ha sido calificada. $R$ tiene un 1 cuando las películas han sido calificadas. Las películas están en filas, los usuarios en columnas. Cada usuario tiene un vector de parámetros $w^{user}$ y un sesgo. Cada película tiene un vector de características $x^{película}$. Estos vectores se aprenden simultáneamente utilizando las valoraciones existentes de usuarios/películas como datos de entrenamiento. Un ejemplo de entrenamiento se muestra arriba: $\\mathbf{w}^{(1)} \\cdot \\mathbf{x}^{(1)} + b^{(1)} = 4$. Cabe destacar que el vector de características $x^{película}$ debe satisfacer a todos los usuarios, mientras que el vector de usuarios $w^{usuario}$ debe satisfacer a todas las películas. Este es el origen del nombre de este enfoque: todos los usuarios colaboran para generar el conjunto de valoraciones. \n",
    "\n",
    "<figure>\n",
    "   <img src=\"./images/ColabFilterUse.PNG\"  style=\"width:640px;height:250px;\" >\n",
    "</figure>"
   ]
  },
  {
   "cell_type": "markdown",
   "metadata": {},
   "source": [
    "Una vez aprendidos los vectores de características y los parámetros, pueden utilizarse para predecir cómo podría calificar un usuario una película no calificada. Esto se muestra en el diagrama anterior. La ecuación es un ejemplo de predicción de la calificación del usuario uno en la película cero."
   ]
  },
  {
   "cell_type": "markdown",
   "metadata": {},
   "source": [
    "\n",
    "En este ejercicio, implementará la función `cofiCostFunc` que calcula la función objetivo del filtrado colaborativo\n",
    "objetivo del filtrado colaborativo. Después de implementar la función objetivo, utilizarás un bucle de entrenamiento personalizado de TensorFlow para aprender los parámetros del filtrado colaborativo. El primer paso es detallar el conjunto de datos y las estructuras de datos que se utilizarán en el laboratorio."
   ]
  },
  {
   "cell_type": "markdown",
   "metadata": {},
   "source": [
    "<a name=\"3\"></a>\n",
    "## 3 - Conjunto de datos de clasificación de películas <img align=\"left\" src=\"./images/film_rating.png\" style=\" width:40px; \" >\n",
    "El conjunto de datos se deriva del conjunto de datos [MovieLens \"ml-latest-small\"](https://grouplens.org/datasets/movielens/latest/).   \n",
    "[F. Maxwell Harper y Joseph A. Konstan. 2015. Los conjuntos de datos de MovieLens: Historia y contexto. ACM Transactions on Interactive Intelligent Systems (TiiS) 5, 4: 19:1-19:19. <https://doi.org/10.1145/2827872>]\n",
    "\n",
    "El conjunto de datos original tiene 9000 películas calificadas por 600 usuarios. Se ha reducido el tamaño del conjunto de datos para centrarse en las películas de los años posteriores al 2000. Este conjunto de datos consiste en calificaciones en una escala de 0,5 a 5 en incrementos de 0,5 pasos. El conjunto de datos reducido tiene $n_u = 443$ usuarios, y $n_m= 4778$ películas. \n",
    "\n",
    "A continuación, se cargará el conjunto de datos de películas en las variables $Y$ y $R$.\n",
    "\n",
    "La matriz $Y$ (una matriz $n_m \\times n_u$) almacena las valoraciones $y^{(i,j)}$. La matriz $R$ es una matriz indicadora de valor binario, en la que $R(i,j) = 1$ si el usuario $j$ ha dado una calificación a la película $i$, y $R(i,j)=0$ en caso contrario. \n",
    "\n",
    "A lo largo de esta parte del ejercicio, también se trabajará con las matrices\n",
    "matrices, $\\mathbf{X}$, $\\mathbf{W}$ y $\\mathbf{b}$: \n",
    "\n",
    "$$\\mathbf{X} = \n",
    "\\begin{bmatrix}\n",
    "--- (\\mathbf{x}^{(0)})^T --- \\\\\n",
    "--- (\\mathbf{x}^{(1)})^T --- \\\\\n",
    "\\vdots \\\\\n",
    "--- (\\mathbf{x}^{(n_m-1)})^T --- \\\\\n",
    "\\end{bmatrix} , \\quad\n",
    "\\mathbf{W} = \n",
    "\\begin{bmatrix}\n",
    "--- (\\mathbf{w}^{(0)})^T --- \\\\\n",
    "--- (\\mathbf{w}^{(1)})^T --- \\\\\n",
    "\\vdots \\\\\n",
    "--- (\\mathbf{w}^{(n_u-1)})^T --- \\\\\n",
    "\\end{bmatrix},\\quad\n",
    "\\mathbf{ b} = \n",
    "\\begin{bmatrix}\n",
    " b^{(0)}  \\\\\n",
    " b^{(1)} \\\\\n",
    "\\vdots \\\\\n",
    "b^{(n_u-1)} \\\\\n",
    "\\end{bmatrix}\\quad\n",
    "$$ \n",
    "\n",
    "La fila $i$-ésima de $\\mathbf{X}$ corresponde al\n",
    "vector de características $x^{(i)}$ para la $i$-ésima película, y la $j$-ésima fila de\n",
    "$\\mathbf{W}$ corresponde a un vector de parámetros $\\mathbf{w}^{(j)}$, para el\n",
    "usuario $j$-ésimo. Tanto $x^{(i)}$ como $\\mathbf{w}^{(j)}$ son vectores $n$-dimensionales\n",
    "$n$. Para los fines de este ejercicio, se utilizará $n=10$, y\n",
    "por tanto, $\\mathbf{x}^{(i)}$ y $\\mathbf{w}^{(j)}$ tienen 10 elementos.\n",
    "En consecuencia, $\\mathbf{X}$ es un\n",
    "$n_m \\ ~ 10$ matriz y $\\mathbf{W}$ es un $n_u \\ ~ 10$ matriz.\n",
    "\n",
    "Comenzaremos cargando el conjunto de datos de clasificación de películas para entender la estructura de los datos.\n",
    "Cargaremos $Y$ y $R$ con el conjunto de datos de películas.  \n",
    "También cargaremos $\\mathbf{X}$, $\\mathbf{W}$, y $\\mathbf{b}$ con valores precalculados. Estos valores se aprenderán más tarde en el laboratorio, pero vamos a utilizar los valores precalculados para desarrollar el modelo de costes."
   ]
  },
  {
   "cell_type": "code",
   "execution_count": 2,
   "metadata": {},
   "outputs": [
    {
     "name": "stdout",
     "output_type": "stream",
     "text": [
      "Y (4778, 443) R (4778, 443)\n",
      "X (4778, 10)\n",
      "W (443, 10)\n",
      "b (1, 443)\n",
      "num_features 10\n",
      "num_movies 4778\n",
      "num_users 443\n"
     ]
    }
   ],
   "source": [
    "#Load data\n",
    "X, W, b, num_movies, num_features, num_users = load_precalc_params_small()\n",
    "Y, R = load_ratings_small()\n",
    "\n",
    "print(\"Y\", Y.shape, \"R\", R.shape)\n",
    "print(\"X\", X.shape)\n",
    "print(\"W\", W.shape)\n",
    "print(\"b\", b.shape)\n",
    "print(\"num_features\", num_features)\n",
    "print(\"num_movies\",   num_movies)\n",
    "print(\"num_users\",    num_users)"
   ]
  },
  {
   "cell_type": "code",
   "execution_count": 3,
   "metadata": {},
   "outputs": [
    {
     "name": "stdout",
     "output_type": "stream",
     "text": [
      "Average rating for movie 1 : 3.400 / 5\n"
     ]
    }
   ],
   "source": [
    "#  A partir de la matriz, podemos calcular estadísticas como la valoración media.\n",
    "tsmean =  np.mean(Y[0, R[0, :].astype(bool)])\n",
    "print(f\"Average rating for movie 1 : {tsmean:0.3f} / 5\" )"
   ]
  },
  {
   "cell_type": "markdown",
   "metadata": {},
   "source": [
    "<a name=\"4\"></a>\n",
    "## 4 - Algoritmo de aprendizaje de filtrado colaborativo <img align=\"left\" src=\"./images/film_filter.png\" style=\" width:40px; \" >\n",
    "\n",
    "Ahora, comenzarás a implementar el algoritmo de aprendizaje de filtrado colaborativo\n",
    "de filtrado colaborativo. Empezarás por implementar la función objetivo. \n",
    "\n",
    "El algoritmo de filtrado colaborativo en el entorno de las recomendaciones de películas\n",
    "considera un conjunto de vectores de parámetros $n$-dimensionales\n",
    "$\\mathbf{x}^{(0)},...,\\mathbf{x}^{(n_m-1)}$, $\\mathbf{w}^{(0)},...,\\mathbf{w}^{(n_u-1)}$ y $b^{(0)},...,b^{(n_u-1)}$, donde el modelo predice la calificación de la película $i$ por el usuario $j$ as\n",
    "$y^{(i,j)} = \\mathbf{w}^{(j)}\\cdot \\mathbf{x}^{(i)} + b^{(j)}$ . Dado un conjunto de datos que consiste en\n",
    "un conjunto de valoraciones producidas por algunos usuarios sobre algunas películas, se desea\n",
    "aprender los vectores de parámetros $\\mathbf{x}^{(0)},...,\\mathbf{x}^{(n_m-1)},\n",
    "\\mathbf{w}^{(0)},...,\\mathbf{w}^{(n_u-1)}$  y $b^{(0)},...,b^{(n_u-1)}$ que produce el mejor ajuste (minimiza\n",
    "el error al cuadrado).\n",
    "\n",
    "Completará el código en cofiCostFunc para calcular la función de coste\n",
    "para el filtrado colaborativo."
   ]
  },
  {
   "cell_type": "markdown",
   "metadata": {},
   "source": [
    "<a name=\"4.1\"></a>\n",
    "### 4.1 Función de coste del filtrado colaborativo\n",
    "\n",
    "La función de coste del filtrado colaborativo viene dada por\n",
    "\n",
    "$$J({\\mathbf{x}^{(0)},...,\\mathbf{x}^{(n_m-1)},\\mathbf{w}^{(0)},b^{(0)},...,\\mathbf{w}^{(n_u-1)},b^{(n_u-1)}})= \\frac{1}{2}\\sum_{(i,j):r(i,j)=1}(\\mathbf{w}^{(j)} \\cdot \\mathbf{x}^{(i)} + b^{(j)} - y^{(i,j)})^2\n",
    "+\\underbrace{\n",
    "\\frac{\\lambda}{2}\n",
    "\\sum_{j=0}^{n_u-1}\\sum_{k=0}^{n-1}(\\mathbf{w}^{(j)}_k)^2\n",
    "+ \\frac{\\lambda}{2}\\sum_{i=0}^{n_m-1}\\sum_{k=0}^{n-1}(\\mathbf{x}_k^{(i)})^2\n",
    "}_{regularization}\n",
    "\\tag{1}$$\n",
    "\n",
    "El primer sumatorio en (1) es \"para todo $i$, $j$ donde $r(i,j)$ es igual a $1$\" y podría escribirse:\n",
    "\n",
    "$$\n",
    "= \\frac{1}{2}\\sum_{j=0}^{n_u-1} \\sum_{i=0}^{n_m-1}r(i,j)*(\\mathbf{w}^{(j)} \\cdot \\mathbf{x}^{(i)} + b^{(j)} - y^{(i,j)})^2\n",
    "+\\text{regularization}\n",
    "$$\n",
    "\n",
    "Ahora debe escribir cofiCostFunc (función de coste de filtrado colaborativo) para devolver este coste."
   ]
  },
  {
   "cell_type": "markdown",
   "metadata": {},
   "source": [
    "<a name=\"ex01\"></a>\n",
    "### Ejercicio 1\n",
    "\n",
    "**Implementación del bucle for:**   \n",
    "Comience por implementar la función de coste utilizando bucles for.\n",
    "Considere desarrollar la función de coste en dos pasos. Primero, desarrolle la función de coste sin regularización. Un caso de prueba que no incluye la regularización se proporciona a continuación para probar su implementación. Una vez que funcione, añada la regularización y ejecute las pruebas que incluyen la regularización.  Tenga en cuenta que debería acumular el coste para el usuario $j$ y la película $i$ sólo si $R(i,j) = 1$."
   ]
  },
  {
   "cell_type": "code",
   "execution_count": 4,
   "metadata": {},
   "outputs": [],
   "source": [
    "# GRADED FUNCTION: cofi_cost_func\n",
    "# UNQ_C1\n",
    "\n",
    "def cofi_cost_func(X, W, b, Y, R, lambda_):\n",
    "    \"\"\"\n",
    "    Devuelve el coste del filtrado por contenido\n",
    "    Args:\n",
    "      X (ndarray (num_movies,num_features)): matriz de características de los elementos\n",
    "      W (ndarray (num_users,num_features)) : matriz de parámetros de usuario\n",
    "      b (ndarray (1, num_users) : vector de parámetros de usuario\n",
    "      Y (ndarray (num_movies,num_users) : matriz de valoraciones de películas por parte de los usuarios\n",
    "      R (ndarray (num_movies,num_users) : matriz, donde R(i, j) = 1 si la i-ésima película fue calificada por el j-ésimo usuario\n",
    "      lambda_ (float): parámetro de regularización\n",
    "    Devuelve:\n",
    "      J (float) : Coste\n",
    "    \"\"\"\n",
    "    nm, nu = Y.shape\n",
    "    J = 0\n",
    "    ### START CODE HERE ###  \n",
    "    #  1/2 ∑𝑗=0𝑛𝑢−1∑𝑖=0𝑛𝑚−1𝑟(𝑖,𝑗)∗(𝐰(𝑗)⋅𝐱(𝑖)+𝑏(𝑗)−𝑦(𝑖,𝑗))2\n",
    "    for j in range(nu):\n",
    "        \n",
    "        w   = W[j,:]\n",
    "        b_j = b[0,j]\n",
    "        \n",
    "        for i in range(nm):\n",
    "        \n",
    "            x = X[i,:]\n",
    "            y = Y[i,j]\n",
    "            r = R[i,j]\n",
    "            J += np.square(r * (np.dot(w,x) + b_j - y ) )\n",
    "    J = J/2\n",
    "    J += (lambda_/2) * (np.sum(np.square(W)) + np.sum(np.square(X)))\n",
    "\n",
    "    ### END CODE HERE ### \n",
    "    \n",
    "    return J"
   ]
  },
  {
   "cell_type": "markdown",
   "metadata": {},
   "source": [
    "<details>\n",
    "  <summary><font size=\"3\" color=\"darkgreen\"><b>Click for hints</b></font></summary>\n",
    "    You can structure the code in two for loops similar to the summation in (1).   \n",
    "    Implement the code without regularization first.   \n",
    "    Note that some of the elements in (1) are vectors. Use np.dot(). You can also use np.square().\n",
    "    Pay close attention to which elements are indexed by i and which are indexed by j. Don't forget to divide by two.\n",
    "    \n",
    "```python     \n",
    "    ### START CODE HERE ###  \n",
    "    for j in range(nu):\n",
    "        \n",
    "        \n",
    "        for i in range(nm):\n",
    "            \n",
    "            \n",
    "    ### END CODE HERE ### \n",
    "```    \n",
    "<details>\n",
    "    <summary><font size=\"2\" color=\"darkblue\"><b> Click for more hints</b></font></summary>\n",
    "        \n",
    "    Here is some more details. The code below pulls out each element from the matrix before using it. \n",
    "    One could also reference the matrix directly.  \n",
    "    This code does not contain regularization.\n",
    "    \n",
    "```python \n",
    "    nm,nu = Y.shape\n",
    "    J = 0\n",
    "    ### START CODE HERE ###  \n",
    "    for j in range(nu):\n",
    "        w = W[j,:]\n",
    "        b_j = b[0,j]\n",
    "        for i in range(nm):\n",
    "            x = \n",
    "            y = \n",
    "            r =\n",
    "            J += \n",
    "    J = J/2\n",
    "    ### END CODE HERE ### \n",
    "\n",
    "```\n",
    "    \n",
    "<details>\n",
    "    <summary><font size=\"2\" color=\"darkblue\"><b>Last Resort (full non-regularized implementation)</b></font></summary>\n",
    "    \n",
    "```python \n",
    "    nm,nu = Y.shape\n",
    "    J = 0\n",
    "    ### START CODE HERE ###  \n",
    "    for j in range(nu):\n",
    "        w = W[j,:]\n",
    "        b_j = b[0,j]\n",
    "        for i in range(nm):\n",
    "            x = X[i,:]\n",
    "            y = Y[i,j]\n",
    "            r = R[i,j]\n",
    "            J += np.square(r * (np.dot(w,x) + b_j - y ) )\n",
    "    J = J/2\n",
    "    ### END CODE HERE ### \n",
    "```\n",
    "    \n",
    "<details>\n",
    "    <summary><font size=\"2\" color=\"darkblue\"><b>regularization</b></font></summary>\n",
    "     Regularization just squares each element of the W array and X array and them sums all the squared elements.\n",
    "     You can utilize np.square() and np.sum().\n",
    "\n",
    "<details>\n",
    "    <summary><font size=\"2\" color=\"darkblue\"><b>regularization details</b></font></summary>\n",
    "    \n",
    "```python \n",
    "    J += (lambda_/2) * (np.sum(np.square(W)) + np.sum(np.square(X)))\n",
    "```\n",
    "    \n",
    "</details>\n",
    "</details>\n",
    "</details>\n",
    "</details>\n",
    "\n",
    "    \n"
   ]
  },
  {
   "cell_type": "code",
   "execution_count": 5,
   "metadata": {},
   "outputs": [
    {
     "name": "stdout",
     "output_type": "stream",
     "text": [
      "Cost: 13.67\n"
     ]
    }
   ],
   "source": [
    "# Reducir el tamaño del conjunto de datos para que se ejecute más rápido\n",
    "num_users_r = 4\n",
    "num_movies_r = 5 \n",
    "num_features_r = 3\n",
    "\n",
    "X_r = X[:num_movies_r, :num_features_r]\n",
    "W_r = W[:num_users_r,  :num_features_r]\n",
    "b_r = b[0, :num_users_r].reshape(1,-1)\n",
    "Y_r = Y[:num_movies_r, :num_users_r]\n",
    "R_r = R[:num_movies_r, :num_users_r]\n",
    "\n",
    "# Evaluate cost function\n",
    "J = cofi_cost_func(X_r, W_r, b_r, Y_r, R_r, 0);\n",
    "print(f\"Cost: {J:0.2f}\")"
   ]
  },
  {
   "cell_type": "code",
   "execution_count": 6,
   "metadata": {},
   "outputs": [
    {
     "name": "stdout",
     "output_type": "stream",
     "text": [
      "Cost (with regularization): 28.09\n"
     ]
    }
   ],
   "source": [
    "# Evaluate cost function with regularization \n",
    "J = cofi_cost_func(X_r, W_r, b_r, Y_r, R_r, 1.5);\n",
    "print(f\"Cost (with regularization): {J:0.2f}\")"
   ]
  },
  {
   "cell_type": "markdown",
   "metadata": {},
   "source": [
    "**Expected Output**:\n",
    "\n",
    "28.09"
   ]
  },
  {
   "cell_type": "code",
   "execution_count": 7,
   "metadata": {},
   "outputs": [
    {
     "name": "stdout",
     "output_type": "stream",
     "text": [
      "\u001b[92mAll tests passed!\n"
     ]
    }
   ],
   "source": [
    "# Public tests\n",
    "from public_tests import *\n",
    "test_cofi_cost_func(cofi_cost_func)"
   ]
  },
  {
   "cell_type": "markdown",
   "metadata": {},
   "source": [
    "**Implementación vectorizada**\n",
    "\n",
    "Es importante crear una implementación vectorizada para calcular $J$, ya que luego será llamada muchas veces durante la optimización. El álgebra lineal utilizada no es el objetivo de esta serie, por lo que se proporciona la implementación. Si usted es un experto en álgebra lineal, siéntase libre de crear su versión sin hacer referencia al código de abajo. \n",
    "\n",
    "Ejecute el código de abajo y verifique que produce los mismos resultados que la versión no vectorizada."
   ]
  },
  {
   "cell_type": "code",
   "execution_count": 8,
   "metadata": {},
   "outputs": [],
   "source": [
    "def cofi_cost_func_v(X, W, b, Y, R, lambda_):\n",
    "    \"\"\"\n",
    "    Devuelve el coste del filtrado basado en el contenido\n",
    "    Vectorizado para la velocidad. Utiliza operaciones de tensorflow para ser compatible con el bucle de entrenamiento personalizado.\n",
    "    Args:\n",
    "      X (ndarray (num_movies,num_features)): matriz de características de los elementos\n",
    "      W (ndarray (num_users,num_features)) : matriz de parámetros de usuario\n",
    "      b (ndarray (1, num_users) : vector de parámetros de usuario\n",
    "      Y (ndarray (num_movies,num_users) : matriz de valoraciones de películas por parte de los usuarios\n",
    "      R (ndarray (num_movies,num_users) : matriz, donde R(i, j) = 1 si la i-ésima película fue calificada por el j-ésimo usuario\n",
    "      lambda_ (float): parámetro de regularización\n",
    "    Devuelve:\n",
    "      J (float) : Coste\n",
    "    \"\"\"\n",
    "    j = (tf.linalg.matmul(X, tf.transpose(W)) + b - Y) * R\n",
    "    J = 0.5 * tf.reduce_sum(j**2) + (lambda_/2) * (tf.reduce_sum(X**2) + tf.reduce_sum(W**2))\n",
    "    return J"
   ]
  },
  {
   "cell_type": "code",
   "execution_count": 9,
   "metadata": {},
   "outputs": [
    {
     "name": "stdout",
     "output_type": "stream",
     "text": [
      "Cost: 13.67\n",
      "Cost (with regularization): 28.09\n"
     ]
    }
   ],
   "source": [
    "# Evaluate cost function\n",
    "J = cofi_cost_func_v(X_r, W_r, b_r, Y_r, R_r, 0);\n",
    "print(f\"Cost: {J:0.2f}\")\n",
    "\n",
    "# Evaluate cost function with regularization \n",
    "J = cofi_cost_func_v(X_r, W_r, b_r, Y_r, R_r, 1.5);\n",
    "print(f\"Cost (with regularization): {J:0.2f}\")"
   ]
  },
  {
   "cell_type": "markdown",
   "metadata": {},
   "source": [
    "**Expected Output**:  \n",
    "Cost: 13.67  \n",
    "Cost (with regularization): 28.09"
   ]
  },
  {
   "cell_type": "markdown",
   "metadata": {},
   "source": [
    "<a name=\"5\"></a>\n",
    "## 5 - Recomendaciones de películas de aprendizaje <img align=\"left\" src=\"./images/film_man_action.png\" style=\" width:40px; \" >\n",
    "------------------------------\n",
    "\n",
    "Una vez que hayas terminado de implementar la función de costes de filtrado colaborativo\n",
    ", puedes empezar a entrenar tu algoritmo para hacer\n",
    "recomendaciones de películas para ti. \n",
    "\n",
    "En la celda de abajo, puedes introducir tus propias opciones de películas. El algoritmo hará recomendaciones por ti. Hemos rellenado algunos valores de acuerdo con nuestras preferencias, pero después de que tengas las cosas funcionando con nuestras elecciones, deberías cambiar esto para que coincida con tus gustos.\n",
    "La lista de todas las películas del conjunto de datos se encuentra en el archivo [movie list](data/small_movie_list.csv)."
   ]
  },
  {
   "cell_type": "code",
   "execution_count": 10,
   "metadata": {},
   "outputs": [
    {
     "name": "stdout",
     "output_type": "stream",
     "text": [
      "\n",
      "New user ratings:\n",
      "\n",
      "Rated 5.0 for  Shrek (2001)\n",
      "Rated 5.0 for  Harry Potter and the Sorcerer's Stone (a.k.a. Harry Potter and the Philosopher's Stone) (2001)\n",
      "Rated 2.0 for  Amelie (Fabuleux destin d'Amélie Poulain, Le) (2001)\n",
      "Rated 5.0 for  Harry Potter and the Chamber of Secrets (2002)\n",
      "Rated 5.0 for  Pirates of the Caribbean: The Curse of the Black Pearl (2003)\n",
      "Rated 5.0 for  Lord of the Rings: The Return of the King, The (2003)\n",
      "Rated 3.0 for  Eternal Sunshine of the Spotless Mind (2004)\n",
      "Rated 5.0 for  Incredibles, The (2004)\n",
      "Rated 2.0 for  Persuasion (2007)\n",
      "Rated 5.0 for  Toy Story 3 (2010)\n",
      "Rated 3.0 for  Inception (2010)\n",
      "Rated 1.0 for  Louis Theroux: Law & Disorder (2008)\n",
      "Rated 1.0 for  Nothing to Declare (Rien à déclarer) (2010)\n"
     ]
    }
   ],
   "source": [
    "movieList, movieList_df = load_Movie_List_pd()\n",
    "\n",
    "my_ratings = np.zeros(num_movies)          #  Initialize my ratings\n",
    "\n",
    "# Comprueba el archivo small_movie_list.csv para ver el ID de cada película en nuestro conjunto de datos\n",
    "# Por ejemplo, Toy Story 3 (2010) tiene el ID 2700, por lo que para calificarla con \"5\", se puede establecer\n",
    "my_ratings[2700] = 5 \n",
    "\n",
    "#Or suppose you did not enjoy Persuasion (2007), you can set\n",
    "my_ratings[2609] = 2;\n",
    "\n",
    "# We have selected a few movies we liked / did not like and the ratings we\n",
    "# gave are as follows:\n",
    "my_ratings[929]  = 5 # El Señor de los Anillos: El Retorno del Rey\n",
    "my_ratings[246]  = 5    # Shrek (2001)\n",
    "my_ratings[2716] = 3    # Inception\n",
    "my_ratings[1150] = 5    # Incredibles, The (2004)\n",
    "my_ratings[382]  = 2    # Amelie (Fabuleux destin d'Amélie Poulain, Le)\n",
    "my_ratings[366]  = 5    # Harry Potter y la piedra filosofal (2001)\n",
    "my_ratings[622]  = 5    # Harry Potter y la cámara secreta (2002)\n",
    "my_ratings[988]  = 3    # Eternal Sunshine of the Spotless Mind (2004)\n",
    "my_ratings[2925] = 1    # Louis Theroux: Law & Disorder (2008)\n",
    "my_ratings[2937] = 1    # Nada que declarar (Rien à déclarer)\n",
    "my_ratings[793]  = 5    # Piratas del Caribe: La maldición de la Perla Negra (2003))\n",
    "my_rated = [i for i in range(len(my_ratings)) if my_ratings[i] > 0]\n",
    "\n",
    "print('\\nNew user ratings:\\n')\n",
    "for i in range(len(my_ratings)):\n",
    "    if my_ratings[i] > 0 :\n",
    "        print(f'Rated {my_ratings[i]} for  {movieList_df.loc[i,\"title\"]}');"
   ]
  },
  {
   "cell_type": "markdown",
   "metadata": {},
   "source": [
    "Ahora, añadamos estas críticas a $Y$ y $R$ y normalicemos las valoraciones."
   ]
  },
  {
   "cell_type": "code",
   "execution_count": 11,
   "metadata": {},
   "outputs": [],
   "source": [
    "# Reload ratings\n",
    "Y, R = load_ratings_small()\n",
    "\n",
    "# Add new user ratings to Y\n",
    "Y = np.c_[my_ratings, Y]\n",
    "\n",
    "# Add new user indicator matrix to R\n",
    "R = np.c_[(my_ratings != 0).astype(int), R]\n",
    "\n",
    "# Normalize the Dataset\n",
    "Ynorm, Ymean = normalizeRatings(Y, R)"
   ]
  },
  {
   "cell_type": "markdown",
   "metadata": {},
   "source": [
    "Preparemos el entrenamiento del modelo. Inicialice los parámetros y seleccione el optimizador Adam."
   ]
  },
  {
   "cell_type": "code",
   "execution_count": 12,
   "metadata": {},
   "outputs": [],
   "source": [
    "#  Useful Values\n",
    "num_movies, num_users = Y.shape\n",
    "num_features = 100\n",
    "\n",
    "# Set Initial Parameters (W, X), use tf.Variable to track these variables\n",
    "tf.random.set_seed(1234) # for consistent results\n",
    "W = tf.Variable(tf.random.normal((num_users,  num_features),dtype=tf.float64),  name='W')\n",
    "X = tf.Variable(tf.random.normal((num_movies, num_features),dtype=tf.float64),  name='X')\n",
    "b = tf.Variable(tf.random.normal((1,          num_users),   dtype=tf.float64),  name='b')\n",
    "\n",
    "# Instantiate an optimizer.\n",
    "optimizer = keras.optimizers.Adam(learning_rate=1e-1)"
   ]
  },
  {
   "cell_type": "markdown",
   "metadata": {},
   "source": [
    "Las operaciones implicadas en el aprendizaje simultáneo de $w$, $b$ y $x$ no entran en las típicas \"capas\" que ofrece el paquete de redes neuronales TensorFlow.  En consecuencia, el flujo utilizado en el curso 2: Model, Compile(), Fit(), Predict(), no es directamente aplicable. En su lugar, podemos utilizar un bucle de entrenamiento personalizado.\n",
    "\n",
    "Recordemos de los laboratorios anteriores los pasos del descenso de gradiente.\n",
    "- repetir hasta la convergencia:\n",
    "    - calcular el paso hacia adelante\n",
    "    - calcular las derivadas de la pérdida relativa a los parámetros\n",
    "    - actualizar los parámetros utilizando la tasa de aprendizaje y las derivadas calculadas \n",
    "    \n",
    "TensorFlow tiene la maravillosa capacidad de calcular las derivadas por ti. Esto se muestra a continuación. Dentro de la sección `tf.GradientTape()`, las operaciones sobre las variables de Tensorflow son rastreadas. Cuando se llama a `tape.gradient()` posteriormente, devolverá el gradiente de la pérdida relativa a las variables rastreadas. Los gradientes pueden entonces ser aplicados a los parámetros usando un optimizador. \n",
    "Esta es una introducción muy breve a una característica útil de TensorFlow y otros marcos de aprendizaje automático. Se puede encontrar más información investigando los \"bucles de entrenamiento personalizados\" dentro del marco de interés."
   ]
  },
  {
   "cell_type": "code",
   "execution_count": 14,
   "metadata": {},
   "outputs": [
    {
     "name": "stdout",
     "output_type": "stream",
     "text": [
      "Training loss at iteration 0: 2321191.3\n",
      "Training loss at iteration 20: 136168.7\n",
      "Training loss at iteration 40: 51863.3\n",
      "Training loss at iteration 60: 24598.8\n",
      "Training loss at iteration 80: 13630.4\n",
      "Training loss at iteration 100: 8487.6\n",
      "Training loss at iteration 120: 5807.7\n",
      "Training loss at iteration 140: 4311.6\n",
      "Training loss at iteration 160: 3435.2\n",
      "Training loss at iteration 180: 2902.1\n"
     ]
    }
   ],
   "source": [
    "iterations = 200\n",
    "lambda_ = 1\n",
    "for iter in range(iterations):\n",
    "    # Utilizar la cinta de gradiente de TensorFlow\n",
    "    # para registrar las operaciones utilizadas para calcular el coste \n",
    "    with tf.GradientTape() as tape:\n",
    "\n",
    "        # Calcule el coste (el pase de ida está incluido en el coste)\n",
    "        cost_value = cofi_cost_func_v(X, W, b, Ynorm, R, lambda_)\n",
    "\n",
    "    # Utilizar la cinta de gradientes para recuperar automáticamente\n",
    "    # los gradientes de las variables entrenables con respecto a la pérdida\n",
    "    grads = tape.gradient( cost_value, [X,W,b] )\n",
    "\n",
    "    # Ejecuta un paso de descenso de gradiente actualizando\n",
    "    # el valor de las variables para minimizar la pérdida.\n",
    "    optimizer.apply_gradients( zip(grads, [X,W,b]) )\n",
    "\n",
    "    # Registrar periódicamente.\n",
    "    if iter % 20 == 0:\n",
    "        print(f\"Training loss at iteration {iter}: {cost_value:0.1f}\")"
   ]
  },
  {
   "cell_type": "markdown",
   "metadata": {},
   "source": [
    "<a name=\"6\"></a>\n",
    "## 6 - Recomendaciones\n",
    "A continuación, calculamos las valoraciones de todas las películas y usuarios y mostramos las películas recomendadas. Estas se basan en las películas y valoraciones introducidas como `mi_valoración[]` más arriba. Para predecir la calificación de la película $i$ para el usuario $j$, se calcula $\\mathbf{w}^{(j)} \\cdot \\mathbf{x}^{(i)} + b^{(j)}$. Esto puede calcularse para todas las valoraciones utilizando la multiplicación de matrices."
   ]
  },
  {
   "cell_type": "code",
   "execution_count": 15,
   "metadata": {},
   "outputs": [
    {
     "name": "stdout",
     "output_type": "stream",
     "text": [
      "Predicting rating 4.49 for movie My Sassy Girl (Yeopgijeogin geunyeo) (2001)\n",
      "Predicting rating 4.48 for movie Martin Lawrence Live: Runteldat (2002)\n",
      "Predicting rating 4.48 for movie Memento (2000)\n",
      "Predicting rating 4.47 for movie Delirium (2014)\n",
      "Predicting rating 4.47 for movie Laggies (2014)\n",
      "Predicting rating 4.47 for movie One I Love, The (2014)\n",
      "Predicting rating 4.46 for movie Particle Fever (2013)\n",
      "Predicting rating 4.45 for movie Eichmann (2007)\n",
      "Predicting rating 4.45 for movie Battle Royale 2: Requiem (Batoru rowaiaru II: Chinkonka) (2003)\n",
      "Predicting rating 4.45 for movie Into the Abyss (2011)\n",
      "\n",
      "\n",
      "Original vs Predicted ratings:\n",
      "\n",
      "Original 5.0, Predicted 4.90 for Shrek (2001)\n",
      "Original 5.0, Predicted 4.84 for Harry Potter and the Sorcerer's Stone (a.k.a. Harry Potter and the Philosopher's Stone) (2001)\n",
      "Original 2.0, Predicted 2.13 for Amelie (Fabuleux destin d'Amélie Poulain, Le) (2001)\n",
      "Original 5.0, Predicted 4.88 for Harry Potter and the Chamber of Secrets (2002)\n",
      "Original 5.0, Predicted 4.87 for Pirates of the Caribbean: The Curse of the Black Pearl (2003)\n",
      "Original 5.0, Predicted 4.89 for Lord of the Rings: The Return of the King, The (2003)\n",
      "Original 3.0, Predicted 3.00 for Eternal Sunshine of the Spotless Mind (2004)\n",
      "Original 5.0, Predicted 4.90 for Incredibles, The (2004)\n",
      "Original 2.0, Predicted 2.11 for Persuasion (2007)\n",
      "Original 5.0, Predicted 4.80 for Toy Story 3 (2010)\n",
      "Original 3.0, Predicted 3.00 for Inception (2010)\n",
      "Original 1.0, Predicted 1.41 for Louis Theroux: Law & Disorder (2008)\n",
      "Original 1.0, Predicted 1.26 for Nothing to Declare (Rien à déclarer) (2010)\n"
     ]
    }
   ],
   "source": [
    "# Hacer una predicción utilizando pesos y sesgos entrenados\n",
    "p = np.matmul(X.numpy(), np.transpose(W.numpy())) + b.numpy()\n",
    "\n",
    "#restablecer la media\n",
    "pm = p + Ymean\n",
    "\n",
    "my_predictions = pm[:,0]\n",
    "\n",
    "# #Predicciones de ordenación\n",
    "ix = tf.argsort(my_predictions, direction='DESCENDING')\n",
    "\n",
    "for i in range(17):\n",
    "    j = ix[i]\n",
    "    if j not in my_rated:\n",
    "        print(f'Predicting rating {my_predictions[j]:0.2f} for movie {movieList[j]}')\n",
    "\n",
    "print('\\n\\nOriginal vs Predicted ratings:\\n')\n",
    "for i in range(len(my_ratings)):\n",
    "    if my_ratings[i] > 0:\n",
    "        print(f'Original {my_ratings[i]}, Predicted {my_predictions[i]:0.2f} for {movieList[i]}')"
   ]
  },
  {
   "cell_type": "markdown",
   "metadata": {},
   "source": [
    "En la práctica, se puede utilizar información adicional para mejorar nuestras predicciones. Arriba, las valoraciones predichas para los primeros cientos de películas se encuentran en un rango pequeño. Podemos aumentar lo anterior seleccionando entre esas películas principales, las películas que tienen valoraciones medias altas y las películas con más de 20 valoraciones. Esta sección utiliza un marco de datos [Pandas](https://pandas.pydata.org/) que tiene muchas características de clasificación útiles."
   ]
  },
  {
   "cell_type": "code",
   "execution_count": 16,
   "metadata": {},
   "outputs": [
    {
     "data": {
      "text/html": [
       "<div>\n",
       "<style scoped>\n",
       "    .dataframe tbody tr th:only-of-type {\n",
       "        vertical-align: middle;\n",
       "    }\n",
       "\n",
       "    .dataframe tbody tr th {\n",
       "        vertical-align: top;\n",
       "    }\n",
       "\n",
       "    .dataframe thead th {\n",
       "        text-align: right;\n",
       "    }\n",
       "</style>\n",
       "<table border=\"1\" class=\"dataframe\">\n",
       "  <thead>\n",
       "    <tr style=\"text-align: right;\">\n",
       "      <th></th>\n",
       "      <th>pred</th>\n",
       "      <th>mean rating</th>\n",
       "      <th>number of ratings</th>\n",
       "      <th>title</th>\n",
       "    </tr>\n",
       "  </thead>\n",
       "  <tbody>\n",
       "    <tr>\n",
       "      <th>1743</th>\n",
       "      <td>4.030965</td>\n",
       "      <td>4.252336</td>\n",
       "      <td>107</td>\n",
       "      <td>Departed, The (2006)</td>\n",
       "    </tr>\n",
       "    <tr>\n",
       "      <th>2112</th>\n",
       "      <td>3.985287</td>\n",
       "      <td>4.238255</td>\n",
       "      <td>149</td>\n",
       "      <td>Dark Knight, The (2008)</td>\n",
       "    </tr>\n",
       "    <tr>\n",
       "      <th>211</th>\n",
       "      <td>4.477792</td>\n",
       "      <td>4.122642</td>\n",
       "      <td>159</td>\n",
       "      <td>Memento (2000)</td>\n",
       "    </tr>\n",
       "    <tr>\n",
       "      <th>929</th>\n",
       "      <td>4.887053</td>\n",
       "      <td>4.118919</td>\n",
       "      <td>185</td>\n",
       "      <td>Lord of the Rings: The Return of the King, The...</td>\n",
       "    </tr>\n",
       "    <tr>\n",
       "      <th>2700</th>\n",
       "      <td>4.796530</td>\n",
       "      <td>4.109091</td>\n",
       "      <td>55</td>\n",
       "      <td>Toy Story 3 (2010)</td>\n",
       "    </tr>\n",
       "    <tr>\n",
       "      <th>653</th>\n",
       "      <td>4.357304</td>\n",
       "      <td>4.021277</td>\n",
       "      <td>188</td>\n",
       "      <td>Lord of the Rings: The Two Towers, The (2002)</td>\n",
       "    </tr>\n",
       "    <tr>\n",
       "      <th>1122</th>\n",
       "      <td>4.004469</td>\n",
       "      <td>4.006494</td>\n",
       "      <td>77</td>\n",
       "      <td>Shaun of the Dead (2004)</td>\n",
       "    </tr>\n",
       "    <tr>\n",
       "      <th>1841</th>\n",
       "      <td>3.980647</td>\n",
       "      <td>4.000000</td>\n",
       "      <td>61</td>\n",
       "      <td>Hot Fuzz (2007)</td>\n",
       "    </tr>\n",
       "    <tr>\n",
       "      <th>3083</th>\n",
       "      <td>4.084633</td>\n",
       "      <td>3.993421</td>\n",
       "      <td>76</td>\n",
       "      <td>Dark Knight Rises, The (2012)</td>\n",
       "    </tr>\n",
       "    <tr>\n",
       "      <th>2804</th>\n",
       "      <td>4.434171</td>\n",
       "      <td>3.989362</td>\n",
       "      <td>47</td>\n",
       "      <td>Harry Potter and the Deathly Hallows: Part 1 (...</td>\n",
       "    </tr>\n",
       "    <tr>\n",
       "      <th>773</th>\n",
       "      <td>4.289679</td>\n",
       "      <td>3.960993</td>\n",
       "      <td>141</td>\n",
       "      <td>Finding Nemo (2003)</td>\n",
       "    </tr>\n",
       "    <tr>\n",
       "      <th>1771</th>\n",
       "      <td>4.344993</td>\n",
       "      <td>3.944444</td>\n",
       "      <td>81</td>\n",
       "      <td>Casino Royale (2006)</td>\n",
       "    </tr>\n",
       "    <tr>\n",
       "      <th>2649</th>\n",
       "      <td>4.133482</td>\n",
       "      <td>3.943396</td>\n",
       "      <td>53</td>\n",
       "      <td>How to Train Your Dragon (2010)</td>\n",
       "    </tr>\n",
       "    <tr>\n",
       "      <th>2455</th>\n",
       "      <td>4.175746</td>\n",
       "      <td>3.887931</td>\n",
       "      <td>58</td>\n",
       "      <td>Harry Potter and the Half-Blood Prince (2009)</td>\n",
       "    </tr>\n",
       "    <tr>\n",
       "      <th>361</th>\n",
       "      <td>4.135291</td>\n",
       "      <td>3.871212</td>\n",
       "      <td>132</td>\n",
       "      <td>Monsters, Inc. (2001)</td>\n",
       "    </tr>\n",
       "    <tr>\n",
       "      <th>3014</th>\n",
       "      <td>3.967901</td>\n",
       "      <td>3.869565</td>\n",
       "      <td>69</td>\n",
       "      <td>Avengers, The (2012)</td>\n",
       "    </tr>\n",
       "    <tr>\n",
       "      <th>246</th>\n",
       "      <td>4.897137</td>\n",
       "      <td>3.867647</td>\n",
       "      <td>170</td>\n",
       "      <td>Shrek (2001)</td>\n",
       "    </tr>\n",
       "    <tr>\n",
       "      <th>151</th>\n",
       "      <td>3.971888</td>\n",
       "      <td>3.836364</td>\n",
       "      <td>110</td>\n",
       "      <td>Crouching Tiger, Hidden Dragon (Wo hu cang lon...</td>\n",
       "    </tr>\n",
       "    <tr>\n",
       "      <th>1150</th>\n",
       "      <td>4.898892</td>\n",
       "      <td>3.836000</td>\n",
       "      <td>125</td>\n",
       "      <td>Incredibles, The (2004)</td>\n",
       "    </tr>\n",
       "    <tr>\n",
       "      <th>793</th>\n",
       "      <td>4.874935</td>\n",
       "      <td>3.778523</td>\n",
       "      <td>149</td>\n",
       "      <td>Pirates of the Caribbean: The Curse of the Bla...</td>\n",
       "    </tr>\n",
       "    <tr>\n",
       "      <th>366</th>\n",
       "      <td>4.843375</td>\n",
       "      <td>3.761682</td>\n",
       "      <td>107</td>\n",
       "      <td>Harry Potter and the Sorcerer's Stone (a.k.a. ...</td>\n",
       "    </tr>\n",
       "    <tr>\n",
       "      <th>754</th>\n",
       "      <td>4.021774</td>\n",
       "      <td>3.723684</td>\n",
       "      <td>76</td>\n",
       "      <td>X2: X-Men United (2003)</td>\n",
       "    </tr>\n",
       "    <tr>\n",
       "      <th>79</th>\n",
       "      <td>4.242984</td>\n",
       "      <td>3.699248</td>\n",
       "      <td>133</td>\n",
       "      <td>X-Men (2000)</td>\n",
       "    </tr>\n",
       "    <tr>\n",
       "      <th>622</th>\n",
       "      <td>4.878342</td>\n",
       "      <td>3.598039</td>\n",
       "      <td>102</td>\n",
       "      <td>Harry Potter and the Chamber of Secrets (2002)</td>\n",
       "    </tr>\n",
       "  </tbody>\n",
       "</table>\n",
       "</div>"
      ],
      "text/plain": [
       "          pred  mean rating  number of ratings  \\\n",
       "1743  4.030965     4.252336                107   \n",
       "2112  3.985287     4.238255                149   \n",
       "211   4.477792     4.122642                159   \n",
       "929   4.887053     4.118919                185   \n",
       "2700  4.796530     4.109091                 55   \n",
       "653   4.357304     4.021277                188   \n",
       "1122  4.004469     4.006494                 77   \n",
       "1841  3.980647     4.000000                 61   \n",
       "3083  4.084633     3.993421                 76   \n",
       "2804  4.434171     3.989362                 47   \n",
       "773   4.289679     3.960993                141   \n",
       "1771  4.344993     3.944444                 81   \n",
       "2649  4.133482     3.943396                 53   \n",
       "2455  4.175746     3.887931                 58   \n",
       "361   4.135291     3.871212                132   \n",
       "3014  3.967901     3.869565                 69   \n",
       "246   4.897137     3.867647                170   \n",
       "151   3.971888     3.836364                110   \n",
       "1150  4.898892     3.836000                125   \n",
       "793   4.874935     3.778523                149   \n",
       "366   4.843375     3.761682                107   \n",
       "754   4.021774     3.723684                 76   \n",
       "79    4.242984     3.699248                133   \n",
       "622   4.878342     3.598039                102   \n",
       "\n",
       "                                                  title  \n",
       "1743                               Departed, The (2006)  \n",
       "2112                            Dark Knight, The (2008)  \n",
       "211                                      Memento (2000)  \n",
       "929   Lord of the Rings: The Return of the King, The...  \n",
       "2700                                 Toy Story 3 (2010)  \n",
       "653       Lord of the Rings: The Two Towers, The (2002)  \n",
       "1122                           Shaun of the Dead (2004)  \n",
       "1841                                    Hot Fuzz (2007)  \n",
       "3083                      Dark Knight Rises, The (2012)  \n",
       "2804  Harry Potter and the Deathly Hallows: Part 1 (...  \n",
       "773                                 Finding Nemo (2003)  \n",
       "1771                               Casino Royale (2006)  \n",
       "2649                    How to Train Your Dragon (2010)  \n",
       "2455      Harry Potter and the Half-Blood Prince (2009)  \n",
       "361                               Monsters, Inc. (2001)  \n",
       "3014                               Avengers, The (2012)  \n",
       "246                                        Shrek (2001)  \n",
       "151   Crouching Tiger, Hidden Dragon (Wo hu cang lon...  \n",
       "1150                            Incredibles, The (2004)  \n",
       "793   Pirates of the Caribbean: The Curse of the Bla...  \n",
       "366   Harry Potter and the Sorcerer's Stone (a.k.a. ...  \n",
       "754                             X2: X-Men United (2003)  \n",
       "79                                         X-Men (2000)  \n",
       "622      Harry Potter and the Chamber of Secrets (2002)  "
      ]
     },
     "execution_count": 16,
     "metadata": {},
     "output_type": "execute_result"
    }
   ],
   "source": [
    "filter=(movieList_df[\"number of ratings\"] > 20)\n",
    "movieList_df[\"pred\"] = my_predictions\n",
    "movieList_df = movieList_df.reindex(columns=[\"pred\", \"mean rating\", \"number of ratings\", \"title\"])\n",
    "movieList_df.loc[ix[:300]].loc[filter].sort_values(\"mean rating\", ascending=False)"
   ]
  },
  {
   "cell_type": "markdown",
   "metadata": {},
   "source": [
    "<a name=\"7\"></a>\n",
    "## 7 - Congratulations! <img align=\"left\" src=\"./images/film_award.png\"     style=\" width:40px;  \" >\n",
    "You have implemented a useful recommender system!"
   ]
  },
  {
   "cell_type": "code",
   "execution_count": null,
   "metadata": {},
   "outputs": [],
   "source": []
  }
 ],
 "metadata": {
  "kernelspec": {
   "display_name": "Python 3.7.7 ('base')",
   "language": "python",
   "name": "python3"
  },
  "language_info": {
   "codemirror_mode": {
    "name": "ipython",
    "version": 3
   },
   "file_extension": ".py",
   "mimetype": "text/x-python",
   "name": "python",
   "nbconvert_exporter": "python",
   "pygments_lexer": "ipython3",
   "version": "3.7.7"
  },
  "vscode": {
   "interpreter": {
    "hash": "8a32cce1f9b3e4570ca846caf6903fa722a4c567520840cb717f6823875f1f99"
   }
  }
 },
 "nbformat": 4,
 "nbformat_minor": 4
}
