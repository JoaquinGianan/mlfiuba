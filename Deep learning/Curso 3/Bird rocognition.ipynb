{
 "cells": [
  {
   "cell_type": "markdown",
   "metadata": {},
   "source": [
    "# Cuestionario de la semana 1 - Reconocimiento de aves en la ciudad de Peacetopia (estudio de caso)\n",
    "\n",
    "\n",
    "Planteamiento del problema\n",
    "Este ejemplo está adaptado de una aplicación de producción real, pero con detalles disfrazados para proteger la confidencialidad.\n",
    "\n",
    "<img src = \"isla.jpg\">"
   ]
  },
  {
   "cell_type": "markdown",
   "metadata": {},
   "source": [
    "## Eres un famoso investigador de la ciudad de Peacetopia. Los habitantes de Peacetopia tienen una característica común: tienen miedo a los pájaros. Para salvarlos, tienes que construir un algoritmo que detecte cualquier pájaro que sobrevuele Peacetopia y alerte a la población.\n",
    "\n",
    "El Ayuntamiento te da un conjunto de datos de 10.000.000 de imágenes del cielo de Peacetopia, tomadas de las cámaras de seguridad de la ciudad. Están etiquetadas:\n",
    "\n",
    "- y = 0: No hay ningún pájaro en la imagen\n",
    "\n",
    "- y = 1: Hay un pájaro en la imagen\n",
    "\n",
    "Tu objetivo es construir un algoritmo capaz de clasificar las nuevas imágenes tomadas por las cámaras de seguridad de Peacetopia.\n",
    "\n",
    "Hay que tomar muchas decisiones:\n",
    "\n",
    "* ¿Cuál es la métrica de evaluación?\n",
    "\n",
    "* ¿Cómo se estructuran los datos en conjuntos de entrenamiento/desarrollo/prueba?\n",
    "\n",
    "### Métrica de éxito\n",
    "\n",
    "El Ayuntamiento le dice que quiere un algoritmo que\n",
    "\n",
    "<ol>\n",
    "<li>Tenga una gran precisión</li>\n",
    "<li>2 Se ejecute rápidamente y tarde poco tiempo en clasificar una nueva imagen.</li>\n",
    "<li>Pueda caber en una pequeña cantidad de memoria, de modo que pueda ejecutarse en un pequeño procesador que la ciudad conectará a muchas cámaras de seguridad diferentes.</li>\n",
    "</ol>\n",
    "\n",
    "## Tener tres métricas de evaluación dificulta la elección rápida entre dos algoritmos diferentes y ralentizará la velocidad de iteración del equipo. ¿Verdadero/Falso?\n",
    "\n",
    "<details><summary>Respuesta</summary>\n",
    "\n",
    "- [x] True\n",
    "- [ ] False\n"
   ]
  },
  {
   "cell_type": "markdown",
   "metadata": {},
   "source": [
    "## La ciudad solicita su ayuda para definir aún más los criterios de precisión, tiempo de ejecución y memoria. ¿Cómo sugeriría que identifiquen los criterios?\n",
    "\n",
    "- Sugiérales que se centren en el criterio que sea importante y que eliminen los otros dos.\n",
    "- Sugiere que adquieran más infraestructura para que el modelo funcione con rapidez y precisión.\n",
    "- **Sugiérales que definan qué criterio es el más importante. A continuación, establezca umbrales para los otros dos.**\n"
   ]
  },
  {
   "cell_type": "markdown",
   "metadata": {},
   "source": [
    "## ¿Cuál de las siguientes opciones responde mejor a la razón por la que es importante identificar las métricas de optimización y satisfacción?\n",
    "\n",
    "- Conocer las métricas permite planificar eficazmente los proyectos.\n",
    "- No lo es. Todas las métricas deben cumplirse para que el modelo sea aceptable.\n",
    "- **La identificación de los tipos de métricas establece umbrales para las métricas de satisfacción. Así se obtienen criterios de evaluación explícitos.**\n",
    "- La identificación de la métrica optimizadora informa al equipo de los modelos que deben probar primero.\n"
   ]
  },
  {
   "cell_type": "markdown",
   "metadata": {},
   "source": [
    "## Con 10.000.000 de puntos de datos, ¿cuál es la mejor opción para las divisiones tren/desarrollo/prueba?\n",
    "\n",
    "|Train | Dev | Test |\n",
    "|:------------:|:-------:|:----------|\n",
    "|**95**|**2.5**|**2.5**|\n",
    "|60|10|30|\n",
    "|33.3|33.3|33.3|\n",
    "|60|30|10|\n",
    "\n"
   ]
  },
  {
   "cell_type": "markdown",
   "metadata": {},
   "source": []
  },
  {
   "cell_type": "markdown",
   "metadata": {},
   "source": [
    "## Ahora que has configurado tus conjuntos de entrenamiento/desarrollo/prueba, el Ayuntamiento se encuentra con otro 1.000.000 de imágenes de las redes sociales y te las ofrece. Estas imágenes son diferentes de la distribución de imágenes que el Ayuntamiento te había dado originalmente, pero crees que podrían ayudar a tu algoritmo. \n",
    "\n",
    "### Deberías añadir los datos de los ciudadanos al conjunto de entrenamiento. ¿Verdadero/Falso?\n",
    "\n",
    "- **True**\n",
    "\n",
    "\n",
    "Después de configurar sus conjuntos de tren/dev/prueba, el Ayuntamiento se encuentra con otro 1.000.000 de imágenes, llamadas \"datos de los ciudadanos\". Al parecer, los ciudadanos de Peacetopia tienen tanto miedo a los pájaros que se ofrecieron a hacer fotos del cielo y a etiquetarlas, aportando así estas 1.000.000 de imágenes adicionales. Estas imágenes son diferentes de la distribución de imágenes que el Ayuntamiento le había dado originalmente, pero usted cree que podría ayudar a su algoritmo.\n",
    "\n",
    "\t  No debes añadir los datos de los ciudadanos al conjunto de entrenamiento, porque esto hará que las distribuciones del conjunto de entrenamiento y del conjunto de desarrollo/prueba sean diferentes, perjudicando así el rendimiento del conjunto de desarrollo y de prueba. ¿Verdadero/Falso?\n",
    "\n",
    "    - [ ] Verdadero\n",
    "    - [x] Falso\n",
    "\n",
    "Nota: Añadir estos datos al conjunto de entrenamiento cambiará la distribución del conjunto de entrenamiento. Sin embargo, no es un problema tener una distribución diferente del conjunto de entrenamiento y del conjunto de prueba. Lo que importa es que el conjunto de desarrollo y prueba tengan la misma \n",
    "distribución."
   ]
  },
  {
   "cell_type": "markdown",
   "metadata": {},
   "source": [
    "## Un miembro del Ayuntamiento sabe un poco de aprendizaje automático y cree que deberías añadir las 1.000.000 imágenes de datos de los ciudadanos al conjunto de dev. Usted se opone porque: (Elija todas las que correspondan)\n",
    "\n",
    "- Las imágenes de los datos de 1.000.000 de ciudadanos no tienen un mapeo x-->y consistente como el resto de los datos.\n",
    "- **El dev set ya no refleja la distribución de datos (cámaras de seguridad) que más le interesa.**\n",
    "- **Esto haría que las distribuciones de los conjuntos de desarrollo y de prueba fueran diferentes. Esto es una mala idea porque no se está apuntando a donde se quiere dar.**\n",
    "- Un conjunto de pruebas más grande ralentizará la velocidad de iteración debido al gasto computacional de la evaluación de los modelos en el conjunto de pruebas."
   ]
  },
  {
   "cell_type": "markdown",
   "metadata": {},
   "source": [
    "## Se entrena un sistema y sus errores son los siguientes (error = 100%-precisión):\n",
    "\n",
    "<table>\n",
    "<tr><th>Error del conjunto de entrenamiento</th><th>4.0%</th></tr>\n",
    "<tr><th>Error del conjunto de desarrollo</th>   <th>4.5%</th></tr>\n",
    "</table>\n",
    "\n",
    "\n",
    "Esto sugiere que una buena vía para mejorar el rendimiento es entrenar una red más grande para reducir el error de entrenamiento del 4,0%. ¿Está usted de acuerdo?\n",
    "\n",
    "- No, porque esto muestra que su varianza es mayor que su sesgo.\n",
    "- **No, porque no hay información suficiente para decirlo.**\n",
    "- Sí, porque esto demuestra que su sesgo es mayor que su varianza.\n",
    "- Sí, porque tener un error de formación del 4,0% muestra que tienes un alto sesgo."
   ]
  },
  {
   "cell_type": "markdown",
   "metadata": {},
   "source": [
    "## Usted quiere definir lo que es el rendimiento a nivel humano para el ayuntamiento. ¿Cuál de las siguientes es la mejor respuesta?\n",
    "\n",
    "- El rendimiento medio de todos sus ornitólogos (0,5%).\n",
    "- La media de los ciudadanos normales de Peacetopia (1,2%).\n",
    "- **La actuación de su mejor ornitólogo (0,3%).**\n",
    "- La media de todas las cifras anteriores (0,66%)."
   ]
  },
  {
   "cell_type": "markdown",
   "metadata": {},
   "source": [
    "## El rendimiento de un algoritmo de aprendizaje puede ser mejor que el rendimiento a nivel humano, pero nunca puede ser mejor que el error de Bayes. ¿Verdadero/Falso?\n",
    "\n",
    "**True**"
   ]
  },
  {
   "cell_type": "markdown",
   "metadata": {},
   "source": [
    "## Después de trabajar en tu algoritmo tienes que decidir los siguientes pasos. Actualmente, el rendimiento a nivel humano es del 0,1%, el entrenamiento es del 2,0% y el conjunto de desarrollo es del 2,1%. ¿Qué afirmación siguiente describe mejor su proceso de pensamiento?\n",
    "\n",
    "- Disminuir la varianza mediante la regularización para que los conjuntos de entrenamiento y de desarrollo tengan un rendimiento similar.\n",
    "- Consigue un conjunto de entrenamiento más grande para reducir la varianza.\n",
    "- **Abordar el sesgo primero a través de un modelo más amplio para acercarse al error a nivel humano.**\n",
    "- **Disminuir la regularización para potenciar las señales más pequeñas.**"
   ]
  },
  {
   "cell_type": "markdown",
   "metadata": {},
   "source": [
    "## También evalúas tu modelo en el conjunto de pruebas y encuentras lo siguiente:\n",
    "Rendimiento a nivel humano\n",
    "\n",
    "\n",
    "<table>\n",
    "<tr><th>Human-level performance</th><th>0.1%</th></tr>\n",
    "<tr><th>Error del conjunto de entrenamiento</th><th>2.0%</th></tr>\n",
    "<tr><th>Error del conjunto de desarrollo</th><th>2.1%</th></tr>\n",
    "<tr><th>Error del conjunto de pruebas</th><th>7.0%</th></tr>\n",
    "</table>\n",
    "\n",
    "¿Qué significa esto? (Marque las dos mejores opciones.)\n",
    "\n",
    "- Deberías conseguir un conjunto de pruebas más grande.\n",
    "- **Deberías intentar conseguir un conjunto de desarrollo más grande.**\n",
    "- **Has sobreajustado el conjunto de desarrollo.**\n",
    "- Has hecho un ajuste insuficiente al conjunto de desarrollo.\n"
   ]
  },
  {
   "cell_type": "markdown",
   "metadata": {},
   "source": [
    "## Después de trabajar en este proyecto durante un año, finalmente consigues: \n",
    "\n",
    "<table>\n",
    "<tr><th>Rendimiento a nivel humano</th><th>0.1%</th></tr>\n",
    "<tr><th>Error del conjunto de entrenamiento</th><th>0,05%</th></tr>\n",
    "<tr><th>Error del conjunto de desarrollo</th><th>0,05%</th></tr>\n",
    "</table>\n",
    "\n",
    "### ¿Cuál de las siguientes afirmaciones es cierta? (Marque todas las que correspondan).\n",
    "\n",
    "- **Está cerca del error de Bayes y de un posible sobreajuste.**\n",
    "- Con sólo un 0,05% más de progreso, debería ser capaz de cerrar rápidamente la brecha restante al 0%.\n",
    "- Se trata de una anomalía estadística (o debe ser el resultado del ruido estadístico) ya que no debería ser posible superar el rendimiento de nivel humano.\n",
    "- **Se ha tenido en cuenta todo o casi todo el sesgo evitable.**"
   ]
  },
  {
   "cell_type": "markdown",
   "metadata": {},
   "source": [
    "## Resulta que Peacetopia ha contratado a uno de tus competidores para que construya también un sistema. Tanto usted como su competidor ofrecen sistemas con el mismo tiempo de ejecución y tamaño de memoria. Sin embargo, ¡tu sistema tiene mayor precisión! Aun así, cuando Peacetopia prueba ambos sistemas, llega a la conclusión de que le gusta más el sistema de su competidor porque, aunque usted tiene una mayor precisión global, tiene más falsos negativos (no da la alarma cuando un pájaro está en el aire). ¿Qué debe hacer?\n",
    "\n",
    "- **Elija la tasa de falsos negativos como nueva métrica y utilice esta nueva métrica para impulsar todo el desarrollo posterior.**\n",
    "- Pida a su equipo que tenga en cuenta tanto la precisión como la tasa de falsos negativos durante el desarrollo.\n",
    "- Haga una lluvia de ideas con su equipo para perfeccionar la métrica de optimización para incluir los falsos negativos a medida que desarrollan el modelo.\n",
    "- Aplique la regularización para minimizar la tasa de falsos negativos.\n"
   ]
  },
  {
   "cell_type": "markdown",
   "metadata": {},
   "source": [
    "## Has vencido con creces a tu competidor, y tu sistema está ahora desplegado en Peacetopia y protege a los ciudadanos de los pájaros. Pero en los últimos meses, una nueva especie de pájaro ha ido migrando lentamente a la zona, por lo que el rendimiento de tu sistema se va degradando poco a poco porque tus datos se están probando con un nuevo tipo de datos.\n",
    "\n",
    "<img src=\"pajaros.jpg\">\n",
    "\n",
    "### Sólo tiene 1.000 imágenes de la nueva especie de ave. La ciudad espera de ti un sistema mejor en los próximos 3 meses. ¿Qué debe hacer primero?\n",
    "\n",
    "- Poner las 1.000 imágenes en el conjunto de entrenamiento para intentar hacerlo mejor con estas aves.\n",
    "- **Utilizar los datos que tienes para definir una nueva métrica de evaluación (utilizando un nuevo conjunto de desarrollo/prueba) teniendo en cuenta las nuevas especies, y utilizarlo para impulsar el progreso de tu equipo.**\n",
    "- Añada las 1.000 imágenes a su conjunto de datos y reordénelas en una nueva división de entrenamiento/desarrollo/prueba.\n",
    "- Pruebe a aumentar o sintetizar los datos para obtener más imágenes del nuevo tipo de ave.\n",
    "\n"
   ]
  },
  {
   "cell_type": "markdown",
   "metadata": {},
   "source": [
    "## El Ayuntamiento piensa que tener más gatos en la ciudad ayudaría a ahuyentar a los pájaros. Están tan contentos con tu trabajo en el detector de pájaros que también te contratan para construir un detector de gatos. (Los detectores de gatos son increíblemente útiles, ¿verdad?) Gracias a los años de trabajo en los detectores de gatos, tienes un conjunto de datos tan grande de 100.000.000 de imágenes de gatos que el entrenamiento con estos datos lleva unas dos semanas. \n",
    "\n",
    "### ¿Con cuál de las afirmaciones estás de acuerdo? (Marque todas las que estén de acuerdo).\n",
    "\n",
    "- Una vez construido un buen detector de pájaros, debería ser capaz de tomar el mismo modelo y los mismos hiperparámetros y aplicarlo al conjunto de datos de gatos, por lo que no es necesario iterar.\n",
    "- **Comprar ordenadores más rápidos podría acelerar la velocidad de iteración de sus equipos y, por tanto, su productividad.**\n",
    "- **Si 100.000.000 de ejemplos son suficientes para construir un detector de Gatos lo suficientemente bueno, podría ser mejor entrenar con sólo 10.000.000 de ejemplos para obtener un ≈ Mejora 10 veces la rapidez con la que se pueden realizar los experimentos, aunque cada modelo funcione un poco peor porque se ha entrenado con menos datos.**\n",
    "- **Si necesita dos semanas para entrenar, limitará la velocidad de iteración.**\n"
   ]
  },
  {
   "cell_type": "markdown",
   "metadata": {},
   "source": [
    "Pregunta 2\n",
    "Tras nuevas discusiones, la ciudad reduce sus criterios a: \n",
    "\n",
    "\"Necesitamos un algoritmo que nos permita saber que un pájaro está volando sobre Peacetopia con la mayor precisión posible\".\n",
    "\n",
    "\"Queremos que el modelo entrenado no tarde más de 10 segundos en clasificar una nueva imagen\". \n",
    "\n",
    "\"Queremos que el modelo quepa en 10MB de memoria\". \n",
    "\n",
    "Si tuvieras los tres modelos siguientes, ¿cuál elegirías?\n",
    "\n",
    "|Test Accuracy | Runtime |Memory size|\n",
    "|:------------:|:-------:|:----------|\n",
    "|97%|1 sec|3MB|\n",
    "|99%|13 sec|9MB|\n",
    "|97%|3 sec|2MB|\n",
    "|98%|9 sec|9MB|\n",
    "\n",
    "\n",
    "<details><summary>Respuesta</summary>\n",
    "\n",
    "- Test Accuracy\t98% \n",
    "- Runtime 9 sec\t\n",
    "- Memory size 9MB\n",
    "\n",
    "Correcto. En cuanto el tiempo de ejecución sea inferior a 10 segundos, estará bien. Por lo tanto, usted puede simplemente maximizar la precisión de la prueba después de asegurarse de que el tiempo de ejecución es <10sec."
   ]
  },
  {
   "cell_type": "markdown",
   "metadata": {},
   "source": []
  }
 ],
 "metadata": {
  "kernelspec": {
   "display_name": "Python 3.7.7 ('base')",
   "language": "python",
   "name": "python3"
  },
  "language_info": {
   "codemirror_mode": {
    "name": "ipython",
    "version": 3
   },
   "file_extension": ".py",
   "mimetype": "text/x-python",
   "name": "python",
   "nbconvert_exporter": "python",
   "pygments_lexer": "ipython3",
   "version": "3.7.7"
  },
  "orig_nbformat": 4,
  "vscode": {
   "interpreter": {
    "hash": "8a32cce1f9b3e4570ca846caf6903fa722a4c567520840cb717f6823875f1f99"
   }
  }
 },
 "nbformat": 4,
 "nbformat_minor": 2
}
