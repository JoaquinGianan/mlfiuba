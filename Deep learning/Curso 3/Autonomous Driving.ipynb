{
 "cells": [
  {
   "cell_type": "markdown",
   "metadata": {},
   "source": [
    "# Para ayudarte a practicar las estrategias de aprendizaje automático, en esta semana te presentaremos otro escenario y te preguntaremos cómo actuarías. Creemos que este \"simulador\" de trabajo en un proyecto de aprendizaje automático dará una tarea de lo que podría ser dirigir un proyecto de aprendizaje automático.\n",
    "\n",
    "### Eres empleado de una startup que construye coches autodirigidos. Te encargas de detectar en imágenes las señales de tráfico (señal de stop, señal de paso de peatones, señal de obra) y los semáforos (luces rojas y verdes). El objetivo es reconocer cuáles de estos objetos aparecen en cada imagen. Como ejemplo, la imagen anterior contiene una señal de paso de peatones y un semáforo en rojo\n",
    "\n",
    "<img src=\"drive01.png\">\n",
    "\n",
    "### Sus 100.000 imágenes etiquetadas se toman con la cámara frontal de su coche. Esta es también la distribución de datos que más te interesa para hacerlo bien. Piensas que podrías obtener un conjunto de datos mucho más grande de Internet, que podría ser útil para el entrenamiento aunque la distribución de datos de Internet no sea la misma. \n",
    "\n",
    "Acabas de empezar con este proyecto. ¿Qué es lo primero que debes hacer? Suponga que cada uno de los pasos que se indican a continuación le llevará más o menos la misma cantidad de tiempo (unos cuantos días).\n",
    "\n",
    "\n",
    "- **Dedica unos días a entrenar un modelo básico y observa qué errores comete.**\n",
    "- Dedica unos días a comprobar cuál es el rendimiento a nivel humano para estas tareas, de modo que puedas obtener una estimación precisa del error de Bayes. \n",
    "- Dedica unos días a obtener los datos de Internet, para que entiendas mejor qué datos hay disponibles. \n",
    "- Dedica unos días a recoger más datos utilizando la cámara frontal de tu coche, para entender mejor cuántos datos por unidad de tiempo puedes recoger. \n",
    "\n",
    "Correcto  \n",
    "\n",
    "        Como se discutió en la clase, el ML aplicado es un proceso altamente iterativo. Si entrenas un modelo básico y realizas un análisis de errores (ver qué errores comete) te ayudará a apuntar en direcciones más prometedoras. "
   ]
  },
  {
   "cell_type": "markdown",
   "metadata": {},
   "source": [
    "## Su objetivo es detectar en las imágenes las señales de tráfico (señal de stop, señal de paso de peatones, señal de obra) y los semáforos (luces rojas y verdes). El objetivo es reconocer cuáles de estos objetos aparecen en cada imagen. Se planea utilizar una red neuronal profunda con unidades ReLU en las capas ocultas.\n",
    "\n",
    "## Para la capa de salida, una activación softmax sería una buena opción porque este es un problema de aprendizaje multitarea. ¿Verdadero/Falso?\n",
    "\n",
    "- Verdadero\n",
    "\n",
    "Correcto  \n",
    "\n",
    "        Softmax sería una buena opción si una y sólo una de las posibilidades (señal de stop, badén, paso de peatones, luz verde y luz roja) estuviera presente en cada imagen"
   ]
  },
  {
   "cell_type": "markdown",
   "metadata": {},
   "source": [
    "## Estás llevando a cabo un análisis de errores y contando los errores que comete el algoritmo. ¿Cuál de estos conjuntos de datos crees que deberías revisar manualmente y examinar cuidadosamente, imagen por imagen?\n",
    "\n",
    "\n",
    "- **500 imágenes en las que el algoritmo cometió un error**\n",
    "- 10.000 imágenes en las que el algoritmo se equivocó\n",
    "- 10.000 imágenes elegidas al azar\n",
    "- 500 imágenes elegidas al azar\n",
    "\n",
    "Correcto  \n",
    "\n",
    "        Concéntrese en las imágenes en las que el algoritmo se equivocó. Además, 500 es suficiente para tener una buena idea inicial de las estadísticas de error. Probablemente no sea necesario mirar 10.000, lo que llevaría mucho tiempo. "
   ]
  },
  {
   "cell_type": "markdown",
   "metadata": {},
   "source": [
    "## Después de trabajar con los datos durante varias semanas, tu equipo termina con los siguientes datos: \n",
    "\n",
    "100.000 imágenes etiquetadas tomadas con la cámara frontal de su coche. \n",
    "\n",
    "900.000 imágenes etiquetadas de carreteras descargadas de Internet.\n",
    "\n",
    "Las etiquetas de cada imagen indican con precisión la presencia de determinadas señales de tráfico o combinaciones de ellas. Por ejemplo $y^{(i)} =   \n",
    "\\begin{bmatrix}\n",
    "1 \\\\ 0 \\\\  0 \\\\ 1 \\\\ 0\n",
    "\\end{bmatrix} \n",
    "$\n",
    "significa que la imagen contiene una señal de stop y un semáforo en rojo. Como se trata de un problema de aprendizaje multitarea, es necesario que todos los $y^{(i)}$ vectores totalmente etiquetados. Si un ejemplo es igual a $ \\begin{bmatrix} 1 \\\\ ? \\\\  1 \\\\ 1 \\\\ ?\\end{bmatrix} $ entonces el algoritmo de aprendizaje no podrá utilizar ese ejemplo. ¿Verdadero/Falso?\n",
    "\n",
    "- Falso\n",
    "\n",
    "        Como se ha visto en la clase sobre el aprendizaje multitarea, se puede calcular el coste de forma que no se vea influido por el hecho de que algunas entradas no hayan sido etiquetadas.\n"
   ]
  },
  {
   "cell_type": "markdown",
   "metadata": {},
   "source": []
  },
  {
   "cell_type": "markdown",
   "metadata": {},
   "source": [
    "## La distribución de datos que te interesa contiene imágenes de la cámara frontal de tu coche; que proviene de una distribución diferente a las imágenes que pudiste encontrar y descargar de internet. ¿Cómo debería dividir el conjunto de datos en conjuntos de entrenamiento/dev/prueba?\n",
    "\n",
    "\n",
    "- **Elige como conjunto de entrenamiento las 900.000 imágenes de Internet junto con 80.000 imágenes de la cámara frontal de tu coche. Las 20.000 imágenes restantes se dividirán a partes iguales en conjuntos de desarrollo y de prueba.**\n",
    "\n",
    "- Elige como conjunto de entrenamiento las 900.000 imágenes de Internet y las 20.000 imágenes de la cámara frontal de tu coche. Las 80.000 imágenes restantes se dividirán a partes iguales en conjuntos de desarrollo y de prueba.\n",
    "\n",
    "- Mezcla las 100.000 imágenes con las 900.000 imágenes que encontraste en Internet. Revuelve todo. Divide el conjunto de datos de 1.000.000 de imágenes en 980.000 para el conjunto de entrenamiento, 10.000 para el conjunto de desarrollo y 10.000 para el conjunto de prueba.\n",
    "\n",
    "- Mezcla las 100.000 imágenes con las 900.000 imágenes que has encontrado en Internet. Revuelve todo. Dividir el conjunto de datos de 1.000.000 de imágenes en 600.000 para el conjunto de entrenamiento, 200.000 para el conjunto de desarrollo y 200.000 para el conjunto de prueba.  000\n",
    "\n",
    "\n",
    "Correcto  \n",
    "\n",
    "        Sí. Como se ha visto en la clase, es importante que los conjuntos de desarrollo y de prueba tengan la distribución más cercana posible a los datos \"reales\". También es importante que el conjunto de entrenamiento contenga suficientes datos \"reales\" para evitar un problema de desajuste de datos."
   ]
  },
  {
   "cell_type": "markdown",
   "metadata": {},
   "source": []
  },
  {
   "cell_type": "markdown",
   "metadata": {},
   "source": [
    "## Supongamos que finalmente ha elegido la siguiente división entre los datos:\n",
    "\n",
    "|Conjunto de datos:|Contiene:|Error del algoritmo:|\n",
    "|:----------------:|:-------:|:------------------:|\n",
    "|Entrenamiento|940.000 imágenes elegidas al azar (900.000 imágenes de Internet + 60.000 imágenes de la cámara frontal del coche)|8.8%|\n",
    "|Entrenamiento-Desarrollo|20.000 imágenes seleccionadas al azar (900.000 imágenes de Internet + 60.000 imágenes de la cámara frontal del coche)|9.1%|\n",
    "|Desarrollo|20.000 imágenes de la cámara frontal del coche|14.3%|\n",
    "|Prueba|20.000 imágenes de la cámara frontal del coche|14.8%|\n",
    "\n",
    "\n",
    "\n",
    "También sabe que el nivel de error humano en la tarea de clasificación de señales de tráfico es de alrededor del 0,5%. ¿Cuáles de las siguientes afirmaciones son verdaderas? (Marque todas las que correspondan).\n",
    "\n",
    "- **Tienes un gran problema de sesgo evitable porque tu error de formación es bastante mayor que el error a nivel humano.**\n",
    "- Tiene un problema de varianza grande porque su modelo no está generalizando bien a los datos de la misma distribución de entrenamiento pero que nunca ha visto antes.\n",
    "- Tienes un problema de gran varianza porque tu error de entrenamiento es bastante más alto que el error a nivel humano.\n",
    "- Su algoritmo se ajusta en exceso al conjunto de desarrollo porque el error de los conjuntos de desarrollo y de prueba son muy cercanos.\n",
    "- **Tienes un gran problema de desajuste de datos porque tu modelo funciona mucho mejor en el conjunto de entrenamiento-dev que en el conjunto dev**"
   ]
  },
  {
   "cell_type": "markdown",
   "metadata": {},
   "source": [
    "## Basándose en la tabla de la pregunta anterior, un amigo piensa que la distribución de los datos de entrenamiento es mucho más fácil que la distribución dev/test. ¿Qué opinas tú?\n",
    "\n",
    "- Tu amigo tiene razón. (Es decir, el error de Bayes para la distribución de datos de entrenamiento es probablemente menor que para la distribución dev/test).\n",
    "- Tu amigo está equivocado. (Es decir, el error de Bayes para la distribución de los datos de entrenamiento es probablemente mayor que para la distribución dev/test).\n",
    "- **No hay información suficiente para saber si tu amigo tiene razón o no.**\n",
    "\n",
    "Correcto  \n",
    "\n",
    "        El algoritmo lo hace mejor en la distribución de datos con la que se ha entrenado. Pero no sabes si es porque se entrenó en esa no distribución o si realmente es más fácil. Para tener una mejor idea, mide el error a nivel humano por separado en ambas distribuciones. "
   ]
  },
  {
   "cell_type": "markdown",
   "metadata": {},
   "source": [
    "## Decides centrarte en el conjunto dev y comprobar a mano a qué se deben los errores. Aquí tienes una tabla que resume tus descubrimientos: \n",
    "\n",
    "\n",
    "<table>\n",
    "<tr><th>Error global del conjunto de desarrollo</th><th>15.3%</th></tr>\n",
    "<tr><th>Errores debidos a datos incorrectamente etiquetados</th>   <th>4.1% </th></tr>\n",
    "<tr><th>Errores debidos a imágenes borrosas</th>   <th>8.0% </th></tr>\n",
    "<tr><th>Errores debidos a gotas de lluvia atascadas en la cámara frontal del coche</th>   <th>2.2% </th></tr>\n",
    "<tr><th>Errores debidos a otras causas</th>   <th>1.0% </th></tr>\n",
    "</table>\n",
    "\n",
    "En esta tabla, el 4,1%, el 8,0%, etc. son una fracción del conjunto total de errores (no sólo los ejemplos que tu algoritmo etiquetó mal).  Por ejemplo, aproximadamente 8,0/15,3 = 52% de sus errores se deben a imágenes con niebla.\n",
    "\n",
    "Los resultados de este análisis implican que la máxima prioridad del equipo debería ser introducir más imágenes con niebla en el conjunto de entrenamiento para poder solucionar el 8,0% de errores en esa categoría. ¿Verdadero/Falso?\n",
    "\n",
    "> hay conceptos sutiles a tener en cuenta con esta pregunta, y es posible que encuentres argumentos de por qué algunas respuestas son también correctas o incorrectas.  Le recomendamos que dedique tiempo a leer los comentarios de esta pregunta, para entender qué cuestiones querrá considerar cuando construya su propio proyecto de aprendizaje automático.\n",
    "\n",
    "\n",
    "- **Es cierto porque es la categoría de errores más grande.  Siempre debemos dar prioridad a la categoría de errores más grande, ya que así se aprovechará mejor el tiempo del equipo.**\n",
    "\n",
    "- Verdadero porque es mayor que las otras categorías de error sumadas (8,0 > 4,1+2,2+1,0).\n",
    "\n",
    "- Falso porque depende de lo fácil que sea añadir datos de niebla. Si los datos de niebla son muy difíciles y costosos de recopilar, puede que no merezca la pena el esfuerzo del equipo.\n",
    "\n",
    "- Primero hay que empezar con las fuentes de error que son menos costosas de arreglar.\n",
    "\n",
    "Correcto  \n",
    "\n",
    "        Retroalimentación: Esta es la respuesta correcta. Hay que tener en cuenta la compensación entre la accesibilidad de los datos y la mejora potencial de su modelo entrenado con estos datos adicionales."
   ]
  },
  {
   "cell_type": "markdown",
   "metadata": {},
   "source": [
    "## Se puede comprar un limpiaparabrisas especialmente diseñado que ayuda a limpiar algunas gotas de lluvia en la cámara frontal. Según la tabla de la pregunta anterior, ¿con cuál de las siguientes afirmaciones estás de acuerdo? \n",
    "\n",
    "\n",
    "- **El 2,2% sería una estimación razonable de la cantidad máxima que este limpiaparabrisas podría mejorar el rendimiento.**\n",
    "\n",
    "- El 2,2% sería una estimación razonable de la cantidad mínima que este limpiaparabrisas podría mejorar el rendimiento.\n",
    "\n",
    "- El 2,2% sería una estimación razonable de cuánto mejorará el rendimiento este limpiaparabrisas. \n",
    "\n",
    "- El 2,2% sería una estimación razonable de cuánto podría empeorar el rendimiento este limpiaparabrisas en el peor de los casos. \n",
    "\n",
    "Correcto  \n",
    "\n",
    "        Sí. Probablemente no mejorarás el rendimiento en más de un 2,2% resolviendo el problema de las gotas de lluvia. Si su conjunto de datos fuera infinitamente grande, el 2,2% sería una estimación perfecta de la mejora que puede conseguir comprando un limpiaparabrisas especialmente diseñado para eliminar las gotas de lluvia."
   ]
  },
  {
   "cell_type": "markdown",
   "metadata": {},
   "source": [
    "## Decides utilizar el aumento de datos para tratar las imágenes con niebla. Encuentras 1.000 imágenes de niebla en Internet y las \"añades\" a las imágenes limpias para sintetizar los días de niebla, así:\n",
    "\n",
    "<img src=\"drive02.png\">\n",
    "\n",
    "### ¿Con cuál de las siguientes afirmaciones está usted de acuerdo?\n",
    "\n",
    "\n",
    "- Añadir al conjunto de datos de entrenamiento imágenes sintetizadas que se parecen a las fotos reales de niebla tomadas desde la cámara frontal de tu coche no ayudará a mejorar el modelo porque introducirá un sesgo evitable.\n",
    "\n",
    "- Hay poco riesgo de sobreajuste en las 1.000 imágenes con niebla siempre que se combinen con una cantidad mucho mayor (>>1.000) de imágenes limpias y sin niebla. \n",
    "\n",
    "- **Mientras la niebla sintetizada tenga un aspecto realista para el ojo humano, puedes estar seguro de que los datos sintetizados están capturando con precisión la distribución de las imágenes reales de niebla (o un subconjunto de ellas), ya que la visión humana es muy precisa para el problema que estás resolviendo.**\n",
    "\n",
    "Correcto  \n",
    "\n",
    "- Sí. Si las imágenes sintetizadas tienen un aspecto realista, entonces el modelo las verá como si hubieras añadido datos útiles para identificar las señales de tráfico y los semáforos en caso de niebla. Es muy probable que te ayude."
   ]
  },
  {
   "cell_type": "markdown",
   "metadata": {},
   "source": [
    "## Después de seguir trabajando en el problema, has decidido corregir los datos incorrectamente etiquetados en el conjunto de desarrollo. ¿Con cuál de estas afirmaciones estás de acuerdo? (Marque todas las que correspondan).\n",
    "\n",
    "\n",
    "- **También deberías corregir los datos incorrectamente etiquetados en el conjunto de prueba, para que los conjuntos de desarrollo y de prueba sigan procediendo de la misma distribución**\n",
    "\n",
    "Correcto  \n",
    "        \n",
    "        Sí, porque quiere asegurarse de que los datos de desarrollo y de prueba provienen de la misma distribución para que el proceso de desarrollo iterativo de su equipo sea eficiente.\n",
    "\n",
    "\n",
    "- También debe corregir los datos incorrectamente etiquetados en el conjunto de entrenamiento para evitar que su conjunto de entrenamiento sea aún más diferente de su conjunto de desarrollo.\n",
    "\n",
    "- No debe corregir los datos incorrectamente etiquetados en el conjunto de prueba, para que los conjuntos de desarrollo y de prueba sigan procediendo de la misma distribución.\n",
    "\n",
    "\n",
    "- No es necesario corregir los datos incorrectamente etiquetados en el conjunto de entrenamiento, porque está bien que la distribución del conjunto de entrenamiento difiera de los conjuntos de desarrollo y de prueba.  Tenga en cuenta que es importante que el conjunto de desarrollo y el conjunto de prueba tengan la misma distribución.\n",
    "\n",
    "Correcto\n",
    "\n",
    "        Cierto, los algoritmos de aprendizaje profundo son bastante robustos a tener distribuciones de entrenamiento y dev ligeramente diferentes. "
   ]
  },
  {
   "cell_type": "markdown",
   "metadata": {},
   "source": [
    "## Hasta ahora tu algoritmo sólo reconoce los semáforos rojos y verdes. Uno de tus colegas de la startup está empezando a trabajar en el reconocimiento de un semáforo amarillo. (Algunos países lo llaman luz naranja en lugar de amarilla; utilizaremos la convención estadounidense de llamarlo amarillo). Las imágenes que contienen semáforos amarillos son bastante raras, y ella no tiene suficientes datos para construir un buen modelo. Espera que tú puedas ayudarla utilizando el aprendizaje por transferencia.\n",
    "\n",
    "### ¿Qué le dices a tu colega? \n",
    "\n",
    "\n",
    "- Debería probar a utilizar pesos preentrenados en tu conjunto de datos y afinarlos con el conjunto de datos de luces amarillas.\n",
    "\n",
    "- Si ella tiene (digamos) 10.000 imágenes de luces amarillas, muestrear aleatoriamente 10.000 imágenes de tu conjunto de datos y poner tus datos y los de ella juntos. Esto evita que su conjunto de datos \"inunde\" el conjunto de datos de luces amarillas. \n",
    "\n",
    "- No puedes ayudarla porque la distribución de datos que tienes es diferente a la de ella, y también carece de la etiqueta amarilla. \n",
    "\n",
    "\n",
    "- **Recomiéndale que pruebe el aprendizaje multitarea en lugar del aprendizaje por transferencia utilizando todos los datos.**\n",
    "\n",
    "Correcto\n",
    "\n",
    "        Sí. Tú has entrenado tu modelo en un conjunto de datos enorme, y ella tiene un conjunto de datos pequeño. Aunque sus etiquetas son diferentes, los parámetros de tu modelo han sido entrenados para reconocer muchas características de las imágenes de carreteras y tráfico que serán útiles para su problema. Este es un caso perfecto para el aprendizaje por transferencia, ella puede empezar con un modelo con la misma arquitectura que el tuyo, cambiar lo que hay después de la última capa oculta e inicializarlo con tus parámetros entrenados."
   ]
  },
  {
   "cell_type": "markdown",
   "metadata": {},
   "source": []
  },
  {
   "cell_type": "markdown",
   "metadata": {},
   "source": [
    "## Otro colega quiere utilizar micrófonos colocados fuera del coche para escuchar mejor si hay otros vehículos a tu alrededor. Por ejemplo, si hay un vehículo de la policía detrás de ti, podrías oír su sirena. Sin embargo, no tienen mucho para entrenar este sistema de audio. ¿Cómo puedes ayudar?\n",
    "\n",
    "\n",
    "- El aprendizaje por transferencia de su conjunto de datos de visión podría ayudar a su colega a ponerse en marcha más rápidamente. El aprendizaje multitarea parece bastante menos prometedor. \n",
    "\n",
    "- El aprendizaje multitarea de su conjunto de datos de visión podría ayudar a su colega a ponerse en marcha más rápidamente. El aprendizaje por transferencia parece bastante menos prometedor.\n",
    "\n",
    "- Tanto el aprendizaje de transferencia como el aprendizaje multitarea podrían ayudar a nuestro colega a avanzar más rápido.\n",
    "\n",
    "- **Ni el aprendizaje de transferencia ni el aprendizaje multitarea parecen prometedores.**\n",
    "\n",
    "Correcto  \n",
    "\n",
    "        Sí, el problema que él intenta resolver es bastante diferente al tuyo. Las diferentes estructuras de los conjuntos de datos hacen que probablemente sea imposible utilizar el aprendizaje de transferencia o el aprendizaje multitarea."
   ]
  },
  {
   "cell_type": "markdown",
   "metadata": {},
   "source": [
    "## Para reconocer las luces rojas y verdes, se ha utilizado este enfoque:\n",
    "\n",
    "- (A) Introducir una imagen (x) en una red neuronal y hacer que ésta aprenda directamente un mapeo para hacer una predicción sobre si hay una luz roja y/o verde (y).\n",
    "\n",
    "Un compañero de equipo propone un enfoque diferente, de dos pasos:\n",
    "\n",
    "- (B) En este enfoque de dos pasos, primero (i) detectaría el semáforo en la imagen (si lo hay), y luego (ii) determinaría el color de la lámpara iluminada en el semáforo. \n",
    "\n",
    "### Entre estos dos, el enfoque B es más un enfoque de extremo a extremo porque tiene pasos distintos para el extremo de entrada y el extremo de salida. ¿Verdadero/Falso? \n",
    "\n",
    "- **Falso**\n",
    "\n",
    "Correcto  \n",
    "\n",
    "        Sí. (A) es un enfoque de extremo a extremo ya que mapea directamente la entrada (x) a la salida (y)."
   ]
  },
  {
   "cell_type": "markdown",
   "metadata": {},
   "source": [
    "## El enfoque A (en la pregunta anterior) tiende a ser más prometedor que el enfoque B si tienes un ________ (rellena el espacio en blanco).\n",
    "\n",
    "- **Gran conjunto de entrenamiento**\n",
    "\n",
    "- Problema de aprendizaje multitarea.\n",
    "\n",
    "- Problema de sesgo grande.\n",
    "\n",
    "- Problema con un alto error de Bayes. \n",
    "\n",
    "Correcto  \n",
    "\n",
    "        Sí. En muchos campos, se ha observado que el aprendizaje de extremo a extremo funciona mejor en la práctica, pero requiere una gran cantidad de datos."
   ]
  },
  {
   "cell_type": "markdown",
   "metadata": {},
   "source": []
  }
 ],
 "metadata": {
  "kernelspec": {
   "display_name": "Python 3.7.7 ('base')",
   "language": "python",
   "name": "python3"
  },
  "language_info": {
   "name": "python",
   "version": "3.7.7"
  },
  "orig_nbformat": 4,
  "vscode": {
   "interpreter": {
    "hash": "8a32cce1f9b3e4570ca846caf6903fa722a4c567520840cb717f6823875f1f99"
   }
  }
 },
 "nbformat": 4,
 "nbformat_minor": 2
}
